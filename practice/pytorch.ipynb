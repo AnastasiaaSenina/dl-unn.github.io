{
 "cells": [
  {
   "cell_type": "code",
   "execution_count": 5,
   "metadata": {},
   "outputs": [],
   "source": [
    "from __future__ import absolute_import, division, print_function, unicode_literals\n",
    "import matplotlib.pyplot as plt\n",
    "import numpy as np\n",
    "import torch\n",
    "\n",
    "dtype = torch.float\n",
    "# device = torch.device(\"cpu\")\n",
    "device = torch.device(\"cuda:0\") # Uncomment this to run on GPU"
   ]
  },
  {
   "cell_type": "code",
   "execution_count": 6,
   "metadata": {},
   "outputs": [
    {
     "data": {
      "text/plain": [
       "[<matplotlib.lines.Line2D at 0x7f6256a1cac8>]"
      ]
     },
     "execution_count": 6,
     "metadata": {},
     "output_type": "execute_result"
    },
    {
     "data": {
      "image/png": "[encoded data removed]",
      "text/plain": [
       "<Figure size 432x288 with 1 Axes>"
      ]
     },
     "metadata": {
      "needs_background": "light"
     },
     "output_type": "display_data"
    }
   ],
   "source": [
    "np.random.seed(666)\n",
    "\n",
    "x = np.arange(0, 10, 0.3)\n",
    "y = 3 * x - 20\n",
    "errors = np.random.normal(0, 1.5, y.shape[0])\n",
    "\n",
    "y_real = y + errors\n",
    "\n",
    "plt.plot(x, y_real, 'bo')\n",
    "plt.plot(x, y)"
   ]
  },
  {
   "cell_type": "code",
   "execution_count": 8,
   "metadata": {},
   "outputs": [
    {
     "name": "stdout",
     "output_type": "stream",
     "text": [
      "error = 3517.9736824428414, 0.4462156891822815 * x + -1.7411689758300781\n",
      "error = 1081.8010316064465, 1.3426274061203003 * x + -9.119088172912598\n",
      "error = 414.9115816530838, 1.997938632965088 * x + -13.475854873657227\n",
      "error = 180.37140352785315, 2.3865623474121094 * x + -16.05957794189453\n",
      "error = 97.88504172221383, 2.6170318126678467 * x + -17.591829299926758\n",
      "error = 68.87546179332, 2.7537076473236084 * x + -18.500503540039062\n",
      "error = 58.67304702812176, 2.834761142730713 * x + -19.039379119873047\n",
      "error = 55.0848166634465, 2.882830858230591 * x + -19.358964920043945\n",
      "error = 53.822960276291106, 2.9113364219665527 * x + -19.548480987548828\n",
      "error = 53.3791888147776, 2.9282402992248535 * x + -19.660865783691406\n",
      "error = 53.223097987645865, 2.9382665157318115 * x + -19.727523803710938\n",
      "error = 53.16821416937677, 2.94421124458313 * x + -19.767045974731445\n",
      "error = 53.14891246690655, 2.9477365016937256 * x + -19.790483474731445\n",
      "error = 53.14212288299741, 2.949827194213867 * x + -19.804384231567383\n",
      "error = 53.139734202318294, 2.9510676860809326 * x + -19.81262969970703\n",
      "error = 53.13889454297481, 2.9518027305603027 * x + -19.81751823425293\n",
      "error = 53.13859911160091, 2.9522387981414795 * x + -19.820417404174805\n",
      "error = 53.13849536909086, 2.9524967670440674 * x + -19.822132110595703\n",
      "error = 53.138458797881256, 2.9526498317718506 * x + -19.823148727416992\n",
      "error = 53.138445756319854, 2.952741861343384 * x + -19.823759078979492\n"
     ]
    }
   ],
   "source": [
    "a = torch.randn(1, device=device, dtype=dtype, requires_grad=True)\n",
    "b = torch.randn(1, device=device, dtype=dtype, requires_grad=True)\n",
    "\n",
    "learning_rate = 0.0003\n",
    "\n",
    "for i in range(2000):    \n",
    "    x_torch = torch.tensor(x).to(device)\n",
    "    y_real_torch = torch.tensor(y_real).to(device)\n",
    "    loss = ((a * x_torch + b - y_real_torch) ** 2).sum()\n",
    "        \n",
    "    loss.backward()\n",
    "    \n",
    "    with torch.no_grad():\n",
    "        a -= learning_rate * a.grad\n",
    "        b -= learning_rate * b.grad\n",
    "\n",
    "        a.grad.zero_()\n",
    "        b.grad.zero_()\n",
    "        \n",
    "        if i % 100 == 0:\n",
    "            print('error = {}, {} * x + {}'.format(loss.item(), a.item(), b.item()))      "
   ]
  }
 ],
 "metadata": {
  "kernelspec": {
   "display_name": "Python 3",
   "language": "python",
   "name": "python3"
  },
  "language_info": {
   "codemirror_mode": {
    "name": "ipython",
    "version": 3
   },
   "file_extension": ".py",
   "mimetype": "text/x-python",
   "name": "python",
   "nbconvert_exporter": "python",
   "pygments_lexer": "ipython3",
   "version": "3.6.9"
  }
 },
 "nbformat": 4,
 "nbformat_minor": 2
}
